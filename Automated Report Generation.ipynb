{
  "nbformat": 4,
  "nbformat_minor": 0,
  "metadata": {
    "colab": {
      "provenance": [],
      "name": "wheather_api.ipynb",
      "authorship_tag": "ABX9TyN3oHy9kIzcuEPG1GAX77B+",
      "include_colab_link": true
    },
    "kernelspec": {
      "name": "python3",
      "display_name": "Python 3"
    },
    "language_info": {
      "name": "python"
    }
  },
  "cells": [
    {
      "cell_type": "markdown",
      "metadata": {
        "id": "view-in-github",
        "colab_type": "text"
      },
      "source": [
        "<a href=\"https://colab.research.google.com/github/Sagar523-gif/PYTHON/blob/main/Automated%20Report%20Generation.ipynb\" target=\"_parent\"><img src=\"https://colab.research.google.com/assets/colab-badge.svg\" alt=\"Open In Colab\"/></a>"
      ]
    },
    {
      "cell_type": "code",
      "source": [
        "!pip install fpdf2 pandas\n"
      ],
      "metadata": {
        "id": "GTw5PAB0WEbq",
        "outputId": "27a5283e-3205-4597-d369-ece5b7ccfb5a",
        "colab": {
          "base_uri": "https://localhost:8080/"
        }
      },
      "execution_count": 5,
      "outputs": [
        {
          "output_type": "stream",
          "name": "stdout",
          "text": [
            "Requirement already satisfied: fpdf2 in /usr/local/lib/python3.11/dist-packages (2.8.3)\n",
            "Requirement already satisfied: pandas in /usr/local/lib/python3.11/dist-packages (2.2.2)\n",
            "Requirement already satisfied: defusedxml in /usr/local/lib/python3.11/dist-packages (from fpdf2) (0.7.1)\n",
            "Requirement already satisfied: Pillow!=9.2.*,>=6.2.2 in /usr/local/lib/python3.11/dist-packages (from fpdf2) (11.2.1)\n",
            "Requirement already satisfied: fonttools>=4.34.0 in /usr/local/lib/python3.11/dist-packages (from fpdf2) (4.58.4)\n",
            "Requirement already satisfied: numpy>=1.23.2 in /usr/local/lib/python3.11/dist-packages (from pandas) (2.0.2)\n",
            "Requirement already satisfied: python-dateutil>=2.8.2 in /usr/local/lib/python3.11/dist-packages (from pandas) (2.9.0.post0)\n",
            "Requirement already satisfied: pytz>=2020.1 in /usr/local/lib/python3.11/dist-packages (from pandas) (2025.2)\n",
            "Requirement already satisfied: tzdata>=2022.7 in /usr/local/lib/python3.11/dist-packages (from pandas) (2025.2)\n",
            "Requirement already satisfied: six>=1.5 in /usr/local/lib/python3.11/dist-packages (from python-dateutil>=2.8.2->pandas) (1.17.0)\n"
          ]
        }
      ]
    },
    {
      "cell_type": "code",
      "source": [
        "import pandas as pd\n",
        "from fpdf import FPDF\n",
        "\n",
        "# Read data\n",
        "df = pd.read_csv('sample_data.csv')\n",
        "\n",
        "# Calculate average score\n",
        "avg_score = df['Score'].mean()\n",
        "\n",
        "# Generate PDF\n",
        "pdf = FPDF()\n",
        "pdf.add_page()\n",
        "pdf.set_font(\"Arial\", size=16)\n",
        "pdf.cell(200, 10, txt=\"Student Report\", ln=True, align='C')\n",
        "\n",
        "# Table header\n",
        "pdf.set_font(\"Arial\", size=12)\n",
        "pdf.cell(40, 10, \"Name\", 1, 0, 'C')\n",
        "pdf.cell(40, 10, \"Score\", 1, 0, 'C')\n",
        "pdf.cell(40, 10, \"Grade\", 1, 1, 'C')\n",
        "\n",
        "# Table rows\n",
        "for index, row in df.iterrows():\n",
        "    pdf.cell(40, 10, str(row['Name']), 1, 0, 'C')\n",
        "    pdf.cell(40, 10, str(row['Score']), 1, 0, 'C')\n",
        "    pdf.cell(40, 10, str(row['Grade']), 1, 1, 'C')\n",
        "\n",
        "# Add analysis result\n",
        "pdf.ln(10)\n",
        "pdf.cell(0, 10, f\"Average Score: {avg_score:.2f}\", 0, 1, 'L')\n",
        "\n",
        "# Save PDF\n",
        "pdf.output(\"student_report.pdf\")\n",
        "print(\"PDF generated as 'student_report.pdf'\")\n"
      ],
      "metadata": {
        "id": "FqG7hRNQYESl",
        "outputId": "d190115a-4a9c-4ee6-a91a-6449f18b8d8f",
        "colab": {
          "base_uri": "https://localhost:8080/"
        }
      },
      "execution_count": 9,
      "outputs": [
        {
          "output_type": "stream",
          "name": "stdout",
          "text": [
            "PDF generated as 'student_report.pdf'\n"
          ]
        },
        {
          "output_type": "stream",
          "name": "stderr",
          "text": [
            "/tmp/ipython-input-9-104981773.py:13: DeprecationWarning: Substituting font arial by core font helvetica - This is deprecated since v2.7.8, and will soon be removed\n",
            "  pdf.set_font(\"Arial\", size=16)\n",
            "/tmp/ipython-input-9-104981773.py:14: DeprecationWarning: The parameter \"txt\" has been renamed to \"text\" in 2.7.6\n",
            "  pdf.cell(200, 10, txt=\"Student Report\", ln=True, align='C')\n",
            "/tmp/ipython-input-9-104981773.py:14: DeprecationWarning: The parameter \"ln\" is deprecated since v2.5.2. Instead of ln=True use new_x=XPos.LMARGIN, new_y=YPos.NEXT.\n",
            "  pdf.cell(200, 10, txt=\"Student Report\", ln=True, align='C')\n",
            "/tmp/ipython-input-9-104981773.py:17: DeprecationWarning: Substituting font arial by core font helvetica - This is deprecated since v2.7.8, and will soon be removed\n",
            "  pdf.set_font(\"Arial\", size=12)\n",
            "/tmp/ipython-input-9-104981773.py:18: DeprecationWarning: The parameter \"ln\" is deprecated since v2.5.2. Instead of ln=0 use new_x=XPos.RIGHT, new_y=YPos.TOP.\n",
            "  pdf.cell(40, 10, \"Name\", 1, 0, 'C')\n",
            "/tmp/ipython-input-9-104981773.py:19: DeprecationWarning: The parameter \"ln\" is deprecated since v2.5.2. Instead of ln=0 use new_x=XPos.RIGHT, new_y=YPos.TOP.\n",
            "  pdf.cell(40, 10, \"Score\", 1, 0, 'C')\n",
            "/tmp/ipython-input-9-104981773.py:20: DeprecationWarning: The parameter \"ln\" is deprecated since v2.5.2. Instead of ln=1 use new_x=XPos.LMARGIN, new_y=YPos.NEXT.\n",
            "  pdf.cell(40, 10, \"Grade\", 1, 1, 'C')\n",
            "/tmp/ipython-input-9-104981773.py:24: DeprecationWarning: The parameter \"ln\" is deprecated since v2.5.2. Instead of ln=0 use new_x=XPos.RIGHT, new_y=YPos.TOP.\n",
            "  pdf.cell(40, 10, str(row['Name']), 1, 0, 'C')\n",
            "/tmp/ipython-input-9-104981773.py:25: DeprecationWarning: The parameter \"ln\" is deprecated since v2.5.2. Instead of ln=0 use new_x=XPos.RIGHT, new_y=YPos.TOP.\n",
            "  pdf.cell(40, 10, str(row['Score']), 1, 0, 'C')\n",
            "/tmp/ipython-input-9-104981773.py:26: DeprecationWarning: The parameter \"ln\" is deprecated since v2.5.2. Instead of ln=1 use new_x=XPos.LMARGIN, new_y=YPos.NEXT.\n",
            "  pdf.cell(40, 10, str(row['Grade']), 1, 1, 'C')\n",
            "/tmp/ipython-input-9-104981773.py:30: DeprecationWarning: The parameter \"ln\" is deprecated since v2.5.2. Instead of ln=1 use new_x=XPos.LMARGIN, new_y=YPos.NEXT.\n",
            "  pdf.cell(0, 10, f\"Average Score: {avg_score:.2f}\", 0, 1, 'L')\n"
          ]
        }
      ]
    }
  ]
}